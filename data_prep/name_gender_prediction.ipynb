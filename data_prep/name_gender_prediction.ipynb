{
 "cells": [
  {
   "cell_type": "code",
   "execution_count": 1,
   "metadata": {},
   "outputs": [],
   "source": [
    "import nomquamgender as nqg\n",
    "import pandas as pd\n",
    "import os, random, sys\n",
    "from collections import Counter\n",
    "\n",
    "if '/home/rm868/LLM-publication-patterns/data_prep' not in sys.path:\n",
    "    sys.path.append('/home/rm868/LLM-publication-patterns/data_prep')\n",
    "\n",
    "%load_ext autoreload\n",
    "%autoreload 2\n",
    "import preprocess_utils\n",
    "from preprocess_utils import PROCESSED_DATA_DIR"
   ]
  },
  {
   "cell_type": "code",
   "execution_count": 23,
   "metadata": {},
   "outputs": [],
   "source": [
    "metadata = pd.read_json(os.path.join(PROCESSED_DATA_DIR, 'cs_stat_metadata.json'),\n",
    "                        orient='records', lines=True, dtype={'id': str})"
   ]
  },
  {
   "cell_type": "code",
   "execution_count": 5,
   "metadata": {},
   "outputs": [],
   "source": [
    "def predict_genders_for_single_paper_using_nqg(detector, author_list):\n",
    "    # Predictions using nomquamgender package: https://pypi.org/project/nomquamgender/0.1.0/. \n",
    "    annotations = detector.classify(author_list)\n",
    "    for i in range(len(annotations)):\n",
    "        assert annotations[i] in ['gm', 'gf', '-']\n",
    "        mapping_dict = {'gm': 'male', 'gf': 'female', '-': 'unknown'}\n",
    "        annotations[i] = mapping_dict[annotations[i]]\n",
    "    return annotations\n",
    "\n",
    "def compute_female_frac_from_predictions(L):\n",
    "    # For computing female_frac, only include genders with a prediction (i.e., not unknown).\n",
    "    L = [pred for pred in L if pred in ['female', 'male']]\n",
    "    if len(L) == 0: # No predictions above confidence threshold for this paper.\n",
    "        return None\n",
    "    n_female = len([pred for pred in L if pred == 'female'])\n",
    "    return n_female / len(L)\n",
    "\n",
    "def infer_gender_of_authors(metadata, nqg_threshold=0.1):\n",
    "    '''\n",
    "    Given paper dataframe, uses NQG to predict gender for each other name.\n",
    "    See https://peerj.com/articles/cs-156/ for a recent review. \n",
    "    ''' \n",
    "    detector = nqg.NBGC()\n",
    "    detector.threshold = nqg_threshold\n",
    "    print(\"NQG detector threshold is\", detector.threshold)\n",
    "    predicted_genders = metadata['authors'].map(lambda x: predict_genders_for_single_paper_using_nqg(detector, x))\n",
    "\n",
    "    all_predictions = [pred for prediction_list in predicted_genders for pred in prediction_list]\n",
    "    counts = Counter(all_predictions)\n",
    "    for key in counts:\n",
    "        print('%-50s %i %2.1f%%' % (key, counts[key], 100 * counts[key]/len(all_predictions)))\n",
    "    return predicted_genders"
   ]
  },
  {
   "cell_type": "code",
   "execution_count": 26,
   "metadata": {},
   "outputs": [
    {
     "name": "stdout",
     "output_type": "stream",
     "text": [
      "NQG detector threshold is 0.01\n",
      "Inferred genders are (for all papers, not LM papers - don't use these stats in paper):\n",
      "male                                               724178 43.5%\n",
      "unknown                                            864595 51.9%\n",
      "female                                             77317 4.6%\n",
      "NQG detector threshold is 0.05\n",
      "Inferred genders are (for all papers, not LM papers - don't use these stats in paper):\n",
      "male                                               846531 50.8%\n",
      "unknown                                            666107 40.0%\n",
      "female                                             153452 9.2%\n",
      "NQG detector threshold is 0.1\n",
      "Inferred genders are (for all papers, not LM papers - don't use these stats in paper):\n",
      "male                                               919664 55.2%\n",
      "unknown                                            575174 34.5%\n",
      "female                                             171252 10.3%\n",
      "NQG detector threshold is 0.15\n",
      "Inferred genders are (for all papers, not LM papers - don't use these stats in paper):\n",
      "male                                               966210 58.0%\n",
      "unknown                                            514331 30.9%\n",
      "female                                             185549 11.1%\n",
      "NQG detector threshold is 0.2\n",
      "Inferred genders are (for all papers, not LM papers - don't use these stats in paper):\n",
      "male                                               1017607 61.1%\n",
      "unknown                                            444455 26.7%\n",
      "female                                             204028 12.2%\n",
      "NQG detector threshold is 0.25\n",
      "Inferred genders are (for all papers, not LM papers - don't use these stats in paper):\n",
      "male                                               1089693 65.4%\n",
      "unknown                                            355043 21.3%\n",
      "female                                             221354 13.3%\n"
     ]
    }
   ],
   "source": [
    "inferred_gender_df = {'id': metadata['id'], 'authors': metadata['authors']}\n",
    "\n",
    "# Compute gender predictions at many different thresholds.\n",
    "for threshold in [0.01, 0.05, 0.1, 0.15, 0.2, 0.25]:\n",
    "    inferred_gender_df['nqg_uncertainty_threshold_%2.3f' % threshold] = infer_gender_of_authors(metadata, nqg_threshold=threshold)\n",
    "\n",
    "# Compute female_frac at each threshold.\n",
    "gender_inference_cols = list([a for a in inferred_gender_df.keys() if a != 'id' and a != 'authors'])\n",
    "for col in gender_inference_cols:\n",
    "    inferred_gender_df['inferred_female_frac_%s' % col] = [compute_female_frac_from_predictions(x) for x in inferred_gender_df[col]]\n",
    "\n",
    "inferred_gender_df = pd.DataFrame(inferred_gender_df)"
   ]
  },
  {
   "cell_type": "code",
   "execution_count": 32,
   "metadata": {},
   "outputs": [],
   "source": [
    "from preprocess_utils import GENDER_PATH\n",
    "inferred_gender_df.to_json(GENDER_PATH, orient='records', lines=True)"
   ]
  },
  {
   "cell_type": "markdown",
   "metadata": {},
   "source": [
    "### Compute reference stats for the LM metadata dataframe"
   ]
  },
  {
   "cell_type": "code",
   "execution_count": 6,
   "metadata": {},
   "outputs": [
    {
     "name": "stdout",
     "output_type": "stream",
     "text": [
      "NQG detector threshold is 0.01\n",
      "male                                               31558 37.4%\n",
      "unknown                                            48345 57.4%\n",
      "female                                             4367 5.2%\n",
      "NQG detector threshold is 0.05\n",
      "male                                               37016 43.9%\n",
      "unknown                                            38936 46.2%\n",
      "female                                             8318 9.9%\n",
      "NQG detector threshold is 0.1\n",
      "male                                               41278 49.0%\n",
      "unknown                                            33598 39.9%\n",
      "female                                             9394 11.1%\n",
      "NQG detector threshold is 0.15\n",
      "male                                               44203 52.5%\n",
      "unknown                                            29898 35.5%\n",
      "female                                             10169 12.1%\n",
      "NQG detector threshold is 0.2\n",
      "male                                               47243 56.1%\n",
      "unknown                                            25799 30.6%\n",
      "female                                             11228 13.3%\n",
      "NQG detector threshold is 0.25\n",
      "male                                               51666 61.3%\n",
      "unknown                                            20339 24.1%\n",
      "female                                             12265 14.6%\n"
     ]
    }
   ],
   "source": [
    "lm_metadata = pd.read_json(os.path.join(PROCESSED_DATA_DIR, 'lm_papers_metadata.json'),\n",
    "                            orient='records', lines=True, dtype={'id': str})\n",
    "\n",
    "# Compute gender predictions at many different thresholds.\n",
    "for threshold in [0.01, 0.05, 0.1, 0.15, 0.2, 0.25]:\n",
    "    infer_gender_of_authors(lm_metadata, nqg_threshold=threshold)"
   ]
  }
 ],
 "metadata": {
  "kernelspec": {
   "display_name": "Python 3 (ipykernel)",
   "language": "python",
   "name": "python3"
  },
  "orig_nbformat": 4
 },
 "nbformat": 4,
 "nbformat_minor": 2
}
